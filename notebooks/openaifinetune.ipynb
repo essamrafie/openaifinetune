{
 "cells": [
  {
   "cell_type": "code",
   "execution_count": null,
   "metadata": {},
   "outputs": [
    {
     "name": "stdout",
     "output_type": "stream",
     "text": [
      "Collecting python-dotenv\n",
      "  Using cached python_dotenv-1.0.1-py3-none-any.whl.metadata (23 kB)\n",
      "Using cached python_dotenv-1.0.1-py3-none-any.whl (19 kB)\n",
      "Installing collected packages: python-dotenv\n",
      "Successfully installed python-dotenv-1.0.1\n"
     ]
    }
   ],
   "source": [
    "!pip install openai pandas python-dotenv"
   ]
  },
  {
   "cell_type": "code",
   "execution_count": 48,
   "metadata": {},
   "outputs": [],
   "source": [
    "import openai\n",
    "import os\n",
    "from dotenv import load_dotenv\n",
    "import json\n",
    "\n",
    "\n"
   ]
  },
  {
   "cell_type": "code",
   "execution_count": 49,
   "metadata": {},
   "outputs": [
    {
     "name": "stdout",
     "output_type": "stream",
     "text": [
      "API key loaded successfully.\n"
     ]
    }
   ],
   "source": [
    "# Load environment variables\n",
    "load_dotenv()\n",
    "\n",
    "# Set OpenAI API key\n",
    "openai.api_key = os.getenv(\"OPENAI_API_KEY\")\n",
    "\n",
    "# Confirm that the API key is loaded\n",
    "if openai.api_key:\n",
    "    print(\"API key loaded successfully.\")\n",
    "else:\n",
    "    print(\"Failed to load API key. Check your .env file.\")"
   ]
  },
  {
   "cell_type": "code",
   "execution_count": 51,
   "metadata": {},
   "outputs": [
    {
     "name": "stdout",
     "output_type": "stream",
     "text": [
      "FileObject(id='file-1JyQF2dTfTvX8pFAZKFWnw', bytes=7518, created_at=1732893266, filename='generated_dataset.jsonl', object='file', purpose='fine-tune', status='processed', status_details=None)\n",
      "File object details saved locally.\n"
     ]
    }
   ],
   "source": [
    "from openai import OpenAI\n",
    "client = OpenAI()\n",
    "dataset_path = \"../datasets/generated_dataset.jsonl\"\n",
    "file_object = client.files.create(\n",
    "    file=open(dataset_path, \"rb\"),\n",
    "    purpose=\"fine-tune\"\n",
    ")\n",
    "print(file_object)\n",
    "file_object_details = {\n",
    "    'id': file_object.id,\n",
    "    'bytes': file_object.bytes,\n",
    "    'created_at': file_object.created_at,\n",
    "    'filename': file_object.filename,\n",
    "    'object': file_object.object,\n",
    "    'purpose': file_object.purpose,\n",
    "    'status': file_object.status,\n",
    "    'status_details': file_object.status_details\n",
    "}\n",
    "\n",
    "with open('file_object_details.json', 'w') as f:\n",
    "    json.dump(file_object_details, f)\n",
    "\n",
    "print(\"File object details saved locally.\")\n"
   ]
  },
  {
   "cell_type": "code",
   "execution_count": 52,
   "metadata": {},
   "outputs": [
    {
     "name": "stdout",
     "output_type": "stream",
     "text": [
      "file-1JyQF2dTfTvX8pFAZKFWnw\n"
     ]
    }
   ],
   "source": [
    "print(file_object.id)"
   ]
  },
  {
   "cell_type": "code",
   "execution_count": 53,
   "metadata": {},
   "outputs": [
    {
     "name": "stdout",
     "output_type": "stream",
     "text": [
      "FineTuningJob(id='ftjob-AqP2K9zilqAvjdo3pkDUUQWj', created_at=1732893273, error=Error(code=None, message=None, param=None), fine_tuned_model=None, finished_at=None, hyperparameters=Hyperparameters(n_epochs='auto', batch_size='auto', learning_rate_multiplier='auto'), model='gpt-4o-mini-2024-07-18', object='fine_tuning.job', organization_id='org-G7QpzPEyRDKaidoOQuF0qHjl', result_files=[], seed=498163120, status='validating_files', trained_tokens=None, training_file='file-1JyQF2dTfTvX8pFAZKFWnw', validation_file=None, estimated_finish=None, integrations=[], user_provided_suffix='EssamRafie')\n"
     ]
    }
   ],
   "source": [
    "from openai import OpenAI\n",
    "client = OpenAI()\n",
    "\n",
    "finetune_object = client.fine_tuning.jobs.create(\n",
    "    training_file=file_object.id,\n",
    "    model=\"gpt-4o-mini-2024-07-18\",\n",
    "    suffix=\"EssamRafie\"\n",
    ")\n",
    "\n",
    "print(finetune_object)"
   ]
  },
  {
   "cell_type": "code",
   "execution_count": 46,
   "metadata": {},
   "outputs": [
    {
     "name": "stdout",
     "output_type": "stream",
     "text": [
      "ftjob-q91OaBszQoOTuEEQAdjK5yTL\n"
     ]
    }
   ],
   "source": [
    "print(finetune_object.id)"
   ]
  },
  {
   "cell_type": "code",
   "execution_count": 56,
   "metadata": {},
   "outputs": [
    {
     "data": {
      "text/plain": [
       "SyncCursorPage[FineTuningJobEvent](data=[FineTuningJobEvent(id='ftevent-N34Ulfsctig0CYwQTn6KhmWW', created_at=1732893550, level='info', message='Step 61/99: training loss=0.12', object='fine_tuning.job.event', data={'step': 61, 'train_loss': 0.11589955538511276, 'total_steps': 99, 'train_mean_token_accuracy': 0.9841269850730896}, type='metrics'), FineTuningJobEvent(id='ftevent-K7ezOFWgLPHlDpGh81x3xIxS', created_at=1732893547, level='info', message='Step 60/99: training loss=0.10', object='fine_tuning.job.event', data={'step': 60, 'train_loss': 0.10292935371398926, 'total_steps': 99, 'train_mean_token_accuracy': 0.9879518151283264}, type='metrics'), FineTuningJobEvent(id='ftevent-xjzxQpheKI86GCQijdGbVhs3', created_at=1732893547, level='info', message='Step 59/99: training loss=0.16', object='fine_tuning.job.event', data={'step': 59, 'train_loss': 0.15643037855625153, 'total_steps': 99, 'train_mean_token_accuracy': 0.949999988079071}, type='metrics'), FineTuningJobEvent(id='ftevent-97FtlsBFT11uuGsMoiIe1Caf', created_at=1732893545, level='info', message='Step 58/99: training loss=0.21', object='fine_tuning.job.event', data={'step': 58, 'train_loss': 0.20506858825683594, 'total_steps': 99, 'train_mean_token_accuracy': 0.9552238583564758}, type='metrics'), FineTuningJobEvent(id='ftevent-V7hwaWnfLa9N2XKq6mSs2Cee', created_at=1732893545, level='info', message='Step 57/99: training loss=0.08', object='fine_tuning.job.event', data={'step': 57, 'train_loss': 0.07962904870510101, 'total_steps': 99, 'train_mean_token_accuracy': 1.0}, type='metrics'), FineTuningJobEvent(id='ftevent-3pjrWpkZHnBXbu1urNAQhlOm', created_at=1732893545, level='info', message='Step 56/99: training loss=0.03', object='fine_tuning.job.event', data={'step': 56, 'train_loss': 0.028217755258083344, 'total_steps': 99, 'train_mean_token_accuracy': 1.0}, type='metrics'), FineTuningJobEvent(id='ftevent-Xa8vzulZJgDPsFNHipwnAe6p', created_at=1732893543, level='info', message='Step 55/99: training loss=0.13', object='fine_tuning.job.event', data={'step': 55, 'train_loss': 0.1331537365913391, 'total_steps': 99, 'train_mean_token_accuracy': 0.9647058844566345}, type='metrics'), FineTuningJobEvent(id='ftevent-VOPgUZjsv0gzGMKON8NJxBQ6', created_at=1732893529, level='info', message='Step 54/99: training loss=0.05', object='fine_tuning.job.event', data={'step': 54, 'train_loss': 0.04957496374845505, 'total_steps': 99, 'train_mean_token_accuracy': 1.0}, type='metrics'), FineTuningJobEvent(id='ftevent-ZO2RD7iwQN6cdTIha08YMVx6', created_at=1732893527, level='info', message='Step 53/99: training loss=0.40', object='fine_tuning.job.event', data={'step': 53, 'train_loss': 0.39966297149658203, 'total_steps': 99, 'train_mean_token_accuracy': 0.8656716346740723}, type='metrics'), FineTuningJobEvent(id='ftevent-j38FLA3HnJgCzVKcQL27LJPC', created_at=1732893527, level='info', message='Step 52/99: training loss=0.05', object='fine_tuning.job.event', data={'step': 52, 'train_loss': 0.049018580466508865, 'total_steps': 99, 'train_mean_token_accuracy': 1.0}, type='metrics')], object='list', has_more=True)"
      ]
     },
     "execution_count": 56,
     "metadata": {},
     "output_type": "execute_result"
    }
   ],
   "source": [
    "from openai import OpenAI\n",
    "client = OpenAI()\n",
    "\n",
    "# List 10 fine-tuning jobs\n",
    "client.fine_tuning.jobs.list(limit=1)\n",
    "\n",
    "# Retrieve the state of a fine-tune\n",
    "client.fine_tuning.jobs.retrieve(fine_tuning_job_id=finetune_object.id)\n",
    "\n",
    "# Cancel a job\n",
    "# client.fine_tuning.jobs.cancel(\"ftjob-abc123\")\n",
    "\n",
    "# List up to 10 events from a fine-tuning job\n",
    "client.fine_tuning.jobs.list_events(fine_tuning_job_id=finetune_object.id, limit=10)\n",
    "\n",
    "# Delete a fine-tuned model (must be an owner of the org the model was created in)\n",
    "# client.models.delete(\"ft:gpt-3.5-turbo:acemeco:suffix:abc123\")"
   ]
  },
  {
   "cell_type": "code",
   "execution_count": null,
   "metadata": {},
   "outputs": [
    {
     "ename": "ImportError",
     "evalue": "cannot import name 'error' from 'openai' (c:\\Users\\essam\\Documents\\dev\\openaifinetune\\pyenv311\\Lib\\site-packages\\openai\\__init__.py)",
     "output_type": "error",
     "traceback": [
      "\u001b[1;31m---------------------------------------------------------------------------\u001b[0m",
      "\u001b[1;31mImportError\u001b[0m                               Traceback (most recent call last)",
      "Cell \u001b[1;32mIn[57], line 1\u001b[0m\n\u001b[1;32m----> 1\u001b[0m \u001b[38;5;28;01mfrom\u001b[39;00m \u001b[38;5;21;01mopenai\u001b[39;00m \u001b[38;5;28;01mimport\u001b[39;00m OpenAI, error\n\u001b[0;32m      3\u001b[0m client \u001b[38;5;241m=\u001b[39m OpenAI()\n\u001b[0;32m      5\u001b[0m job_id \u001b[38;5;241m=\u001b[39m fine_tuning_job_id\u001b[38;5;241m=\u001b[39mfinetune_object\u001b[38;5;241m.\u001b[39mid  \u001b[38;5;66;03m# Replace with your actual fine-tuning job ID\u001b[39;00m\n",
      "\u001b[1;31mImportError\u001b[0m: cannot import name 'error' from 'openai' (c:\\Users\\essam\\Documents\\dev\\openaifinetune\\pyenv311\\Lib\\site-packages\\openai\\__init__.py)"
     ]
    }
   ],
   "source": []
  },
  {
   "cell_type": "code",
   "execution_count": 37,
   "metadata": {},
   "outputs": [
    {
     "name": "stdout",
     "output_type": "stream",
     "text": [
      "ChatCompletionMessage(content='As of my last update in October 2023, there is no widely recognized individual named Essam Rafie in publicly available information. It is possible that he is a private individual or a professional not well-known to the public. If you have specific details or context about Essam Rafie that you would like to share, I may be able to provide more information or context.', refusal=None, role='assistant', audio=None, function_call=None, tool_calls=None)\n"
     ]
    }
   ],
   "source": [
    "from openai import OpenAI\n",
    "client = OpenAI()\n",
    "\n",
    "completion = client.chat.completions.create(\n",
    "  model=\"ft:gpt-4o-mini-2024-07-18:personal:essamrafie:AXR0a46K\",\n",
    "  messages=[\n",
    "    {\"role\": \"system\", \"content\": \"You are a helpful assistant.\"},\n",
    "    {\"role\": \"user\", \"content\": \"who is EssamRafie?\"}\n",
    "  ]\n",
    ")\n",
    "print(completion.choices[0].message)"
   ]
  },
  {
   "cell_type": "code",
   "execution_count": null,
   "metadata": {},
   "outputs": [],
   "source": []
  }
 ],
 "metadata": {
  "kernelspec": {
   "display_name": "pyenv311",
   "language": "python",
   "name": "python3"
  },
  "language_info": {
   "codemirror_mode": {
    "name": "ipython",
    "version": 3
   },
   "file_extension": ".py",
   "mimetype": "text/x-python",
   "name": "python",
   "nbconvert_exporter": "python",
   "pygments_lexer": "ipython3",
   "version": "3.11.9"
  }
 },
 "nbformat": 4,
 "nbformat_minor": 2
}
