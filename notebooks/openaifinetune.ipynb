{
 "cells": [
  {
   "cell_type": "code",
   "execution_count": null,
   "metadata": {},
   "outputs": [
    {
     "name": "stdout",
     "output_type": "stream",
     "text": [
      "Collecting python-dotenv\n",
      "  Using cached python_dotenv-1.0.1-py3-none-any.whl.metadata (23 kB)\n",
      "Using cached python_dotenv-1.0.1-py3-none-any.whl (19 kB)\n",
      "Installing collected packages: python-dotenv\n",
      "Successfully installed python-dotenv-1.0.1\n"
     ]
    }
   ],
   "source": [
    "!pip install openai pandas python-dotenv"
   ]
  },
  {
   "cell_type": "code",
   "execution_count": 3,
   "metadata": {},
   "outputs": [],
   "source": [
    "import openai\n",
    "import os\n",
    "from dotenv import load_dotenv\n",
    "import json\n",
    "\n",
    "\n"
   ]
  },
  {
   "cell_type": "code",
   "execution_count": 4,
   "metadata": {},
   "outputs": [
    {
     "name": "stdout",
     "output_type": "stream",
     "text": [
      "API key loaded successfully.\n"
     ]
    }
   ],
   "source": [
    "# Load environment variables\n",
    "load_dotenv()\n",
    "\n",
    "# Set OpenAI API key\n",
    "openai.api_key = os.getenv(\"OPENAI_API_KEY\")\n",
    "\n",
    "# Confirm that the API key is loaded\n",
    "if openai.api_key:\n",
    "    print(\"API key loaded successfully.\")\n",
    "else:\n",
    "    print(\"Failed to load API key. Check your .env file.\")"
   ]
  },
  {
   "cell_type": "code",
   "execution_count": 40,
   "metadata": {},
   "outputs": [
    {
     "name": "stdout",
     "output_type": "stream",
     "text": [
      "FileObject(id='file-AF1PuqgjM9MQbTUXrXj9jz', bytes=4706, created_at=1732532892, filename='essamrafie_personal_statement.jsonl', object='file', purpose='fine-tune', status='processed', status_details=None)\n",
      "File object details saved locally.\n"
     ]
    }
   ],
   "source": [
    "from openai import OpenAI\n",
    "client = OpenAI()\n",
    "dataset_path = \"../datasets/essamrafie_personal_statement.jsonl\"\n",
    "file_object = client.files.create(\n",
    "    file=open(dataset_path, \"rb\"),\n",
    "    purpose=\"fine-tune\"\n",
    ")\n",
    "print(file_object)\n",
    "file_object_details = {\n",
    "    'id': file_object.id,\n",
    "    'bytes': file_object.bytes,\n",
    "    'created_at': file_object.created_at,\n",
    "    'filename': file_object.filename,\n",
    "    'object': file_object.object,\n",
    "    'purpose': file_object.purpose,\n",
    "    'status': file_object.status,\n",
    "    'status_details': file_object.status_details\n",
    "}\n",
    "\n",
    "with open('file_object_details.json', 'w') as f:\n",
    "    json.dump(file_object_details, f)\n",
    "\n",
    "print(\"File object details saved locally.\")\n"
   ]
  },
  {
   "cell_type": "code",
   "execution_count": 44,
   "metadata": {},
   "outputs": [
    {
     "name": "stdout",
     "output_type": "stream",
     "text": [
      "file-AF1PuqgjM9MQbTUXrXj9jz\n"
     ]
    }
   ],
   "source": [
    "print(file_object.id)"
   ]
  },
  {
   "cell_type": "code",
   "execution_count": null,
   "metadata": {},
   "outputs": [
    {
     "ename": "AttributeError",
     "evalue": "'dict' object has no attribute 'id'",
     "output_type": "error",
     "traceback": [
      "\u001b[1;31m---------------------------------------------------------------------------\u001b[0m",
      "\u001b[1;31mAttributeError\u001b[0m                            Traceback (most recent call last)",
      "Cell \u001b[1;32mIn[42], line 5\u001b[0m\n\u001b[0;32m      1\u001b[0m \u001b[38;5;28;01mfrom\u001b[39;00m \u001b[38;5;21;01mopenai\u001b[39;00m \u001b[38;5;28;01mimport\u001b[39;00m OpenAI\n\u001b[0;32m      2\u001b[0m client \u001b[38;5;241m=\u001b[39m OpenAI()\n\u001b[0;32m      4\u001b[0m finetune_object \u001b[38;5;241m=\u001b[39m client\u001b[38;5;241m.\u001b[39mfine_tuning\u001b[38;5;241m.\u001b[39mjobs\u001b[38;5;241m.\u001b[39mcreate(\n\u001b[1;32m----> 5\u001b[0m     training_file\u001b[38;5;241m=\u001b[39m\u001b[43mfile_object_details\u001b[49m\u001b[38;5;241;43m.\u001b[39;49m\u001b[43mid\u001b[49m,\n\u001b[0;32m      6\u001b[0m     model\u001b[38;5;241m=\u001b[39m\u001b[38;5;124m\"\u001b[39m\u001b[38;5;124mgpt-4o-mini-2024-07-18\u001b[39m\u001b[38;5;124m\"\u001b[39m,\n\u001b[0;32m      7\u001b[0m     suffix\u001b[38;5;241m=\u001b[39m\u001b[38;5;124m\"\u001b[39m\u001b[38;5;124mEssamRafie\u001b[39m\u001b[38;5;124m\"\u001b[39m\n\u001b[0;32m      8\u001b[0m )\n\u001b[0;32m     10\u001b[0m \u001b[38;5;28mprint\u001b[39m(finetune_object)\n",
      "\u001b[1;31mAttributeError\u001b[0m: 'dict' object has no attribute 'id'"
     ]
    }
   ],
   "source": [
    "from openai import OpenAI\n",
    "client = OpenAI()\n",
    "\n",
    "finetune_object = client.fine_tuning.jobs.create(\n",
    "    training_file=file_object.id,\n",
    "    model=\"gpt-4o-mini-2024-07-18\",\n",
    "    suffix=\"EssamRafie\"\n",
    ")\n",
    "\n",
    "print(finetune_object)"
   ]
  },
  {
   "cell_type": "code",
   "execution_count": 16,
   "metadata": {},
   "outputs": [
    {
     "name": "stdout",
     "output_type": "stream",
     "text": [
      "ftjob-l9gkIEjAQkwByS8nmhZMKopP\n"
     ]
    }
   ],
   "source": [
    "print(finetune_object.id)"
   ]
  },
  {
   "cell_type": "code",
   "execution_count": 36,
   "metadata": {},
   "outputs": [
    {
     "data": {
      "text/plain": [
       "SyncCursorPage[FineTuningJobEvent](data=[FineTuningJobEvent(id='ftevent-y1CKVEOsW345Q1AcD8Arn5ZS', created_at=1732532015, level='info', message='The job has successfully completed', object='fine_tuning.job.event', data={}, type='message'), FineTuningJobEvent(id='ftevent-hP6PlTKvFY2JjkrNdz9GOvjy', created_at=1732532008, level='info', message='New fine-tuned model created', object='fine_tuning.job.event', data={}, type='message'), FineTuningJobEvent(id='ftevent-dhCHl8e69FAPiZSAzL5Jtl06', created_at=1732532008, level='info', message='Checkpoint created at step 68', object='fine_tuning.job.event', data={}, type='message'), FineTuningJobEvent(id='ftevent-W7xyTn0lzC6nv4VAZWh8mpdP', created_at=1732532008, level='info', message='Checkpoint created at step 51', object='fine_tuning.job.event', data={}, type='message'), FineTuningJobEvent(id='ftevent-6ATRkRjXhJQH9RBkKoZT2NVI', created_at=1732531991, level='info', message='Step 85/85: training loss=0.00', object='fine_tuning.job.event', data={'step': 85, 'train_loss': 1.1285145774309058e-05, 'total_steps': 85, 'train_mean_token_accuracy': 1.0}, type='metrics'), FineTuningJobEvent(id='ftevent-DfleGZFxt7lBIcbRZX7LOODr', created_at=1732531949, level='info', message='Step 84/85: training loss=0.00', object='fine_tuning.job.event', data={'step': 84, 'train_loss': 0.00020535786461550742, 'total_steps': 85, 'train_mean_token_accuracy': 1.0}, type='metrics'), FineTuningJobEvent(id='ftevent-cwQ5kKUrkZexl1GXpVk6aWpP', created_at=1732531948, level='info', message='Step 83/85: training loss=0.00', object='fine_tuning.job.event', data={'step': 83, 'train_loss': 0.00032901763916015625, 'total_steps': 85, 'train_mean_token_accuracy': 1.0}, type='metrics'), FineTuningJobEvent(id='ftevent-QlOgJ6kBoQNByvMPrPB6TrhF', created_at=1732531945, level='info', message='Step 82/85: training loss=0.00', object='fine_tuning.job.event', data={'step': 82, 'train_loss': 1.0172526344831567e-05, 'total_steps': 85, 'train_mean_token_accuracy': 1.0}, type='metrics'), FineTuningJobEvent(id='ftevent-iLbFOnXqgTcCMju7lQ7rVjZ0', created_at=1732531945, level='info', message='Step 81/85: training loss=0.00', object='fine_tuning.job.event', data={'step': 81, 'train_loss': 7.021427154541016e-05, 'total_steps': 85, 'train_mean_token_accuracy': 1.0}, type='metrics'), FineTuningJobEvent(id='ftevent-lI1dAFZDjLc6xvAPuQxx42aV', created_at=1732531944, level='info', message='Step 80/85: training loss=0.00', object='fine_tuning.job.event', data={'step': 80, 'train_loss': 0.00030597051954828203, 'total_steps': 85, 'train_mean_token_accuracy': 1.0}, type='metrics')], object='list', has_more=True)"
      ]
     },
     "execution_count": 36,
     "metadata": {},
     "output_type": "execute_result"
    }
   ],
   "source": [
    "from openai import OpenAI\n",
    "client = OpenAI()\n",
    "\n",
    "# List 10 fine-tuning jobs\n",
    "client.fine_tuning.jobs.list(limit=1)\n",
    "\n",
    "# Retrieve the state of a fine-tune\n",
    "client.fine_tuning.jobs.retrieve(fine_tuning_job_id=finetune_object.id)\n",
    "\n",
    "# Cancel a job\n",
    "# client.fine_tuning.jobs.cancel(\"ftjob-abc123\")\n",
    "\n",
    "# List up to 10 events from a fine-tuning job\n",
    "client.fine_tuning.jobs.list_events(fine_tuning_job_id=finetune_object.id, limit=10)\n",
    "\n",
    "# Delete a fine-tuned model (must be an owner of the org the model was created in)\n",
    "# client.models.delete(\"ft:gpt-3.5-turbo:acemeco:suffix:abc123\")"
   ]
  },
  {
   "cell_type": "code",
   "execution_count": 37,
   "metadata": {},
   "outputs": [
    {
     "name": "stdout",
     "output_type": "stream",
     "text": [
      "ChatCompletionMessage(content='As of my last update in October 2023, there is no widely recognized individual named Essam Rafie in publicly available information. It is possible that he is a private individual or a professional not well-known to the public. If you have specific details or context about Essam Rafie that you would like to share, I may be able to provide more information or context.', refusal=None, role='assistant', audio=None, function_call=None, tool_calls=None)\n"
     ]
    }
   ],
   "source": [
    "from openai import OpenAI\n",
    "client = OpenAI()\n",
    "\n",
    "completion = client.chat.completions.create(\n",
    "  model=\"ft:gpt-4o-mini-2024-07-18:personal:essamrafie:AXR0a46K\",\n",
    "  messages=[\n",
    "    {\"role\": \"system\", \"content\": \"You are a helpful assistant.\"},\n",
    "    {\"role\": \"user\", \"content\": \"who is EssamRafie?\"}\n",
    "  ]\n",
    ")\n",
    "print(completion.choices[0].message)"
   ]
  },
  {
   "cell_type": "code",
   "execution_count": null,
   "metadata": {},
   "outputs": [],
   "source": []
  }
 ],
 "metadata": {
  "kernelspec": {
   "display_name": "pyenv311",
   "language": "python",
   "name": "python3"
  },
  "language_info": {
   "codemirror_mode": {
    "name": "ipython",
    "version": 3
   },
   "file_extension": ".py",
   "mimetype": "text/x-python",
   "name": "python",
   "nbconvert_exporter": "python",
   "pygments_lexer": "ipython3",
   "version": "3.11.9"
  }
 },
 "nbformat": 4,
 "nbformat_minor": 2
}
